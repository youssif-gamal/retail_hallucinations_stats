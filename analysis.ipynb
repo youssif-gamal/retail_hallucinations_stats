{
 "cells": [
  {
   "cell_type": "code",
   "execution_count": 39,
   "metadata": {},
   "outputs": [
    {
     "name": "stdout",
     "output_type": "stream",
     "text": [
      "The autoreload extension is already loaded. To reload it, use:\n",
      "  %reload_ext autoreload\n"
     ]
    }
   ],
   "source": [
    "%load_ext autoreload\n",
    "%autoreload 2\n",
    "\n",
    "\n",
    "import queries.min_date_nbh_query as MinDateNBHQuery\n",
    "import queries.nbh_trend_query as NBHTrendQuery\n",
    "import queries.nbh_trend_date_query as NBHTrendDateQuery\n",
    "\n",
    "import executors.bigquery_executor as BigQueryExecutor\n",
    "import helpers\n",
    "import importlib\n",
    "\n",
    "importlib.reload(MinDateNBHQuery)\n",
    "importlib.reload(NBHTrendQuery)\n",
    "importlib.reload(NBHTrendDateQuery)\n",
    "\n",
    "importlib.reload(BigQueryExecutor)\n",
    "importlib.reload(helpers)\n",
    "\n",
    "import concurrent.futures\n",
    "import pandas as pd"
   ]
  },
  {
   "cell_type": "code",
   "execution_count": null,
   "metadata": {},
   "outputs": [],
   "source": [
    "# Context\n",
    "# Some reports were raised about the results returned from google engine for some queries as halussinations, \n",
    "# the issue is that we don't have a way to detect those halussinations, the only characteristic we know is that the number of hits (nbh) returned from google is 400 for those halussinations.\n",
    "\n",
    "# Issues\n",
    "# Its not guranteed that 400 is always a halussination, it could be a valid result, but we don't have a way to detect that.\n",
    "# It's not known if there are other queries that are affected by this issue, and we don't have a way to detect those halussinations.\n",
    "\n",
    "# Approach\n",
    "# we have a list of queries that are known to be halussinations which were flaged to google in the Google 400 products cases Attribution CSV report,\n",
    "# we also have historicly data for the queries in the even_misc, the only metric that might give us something to work with is the nbh (number of hits) returned from google,\n",
    "# we will assume that if the nbh is 400 for a query, then it is a halussination, as this is the only characteristic we know about the halussinations,\n",
    "# we can then detect the first time a halussination was detected for a query and we will assume that this is the start of the halussination,\n",
    "# then we will consider the historcial data prior to the start of the halussination as the baseline of the analysis over the nbh,\n",
    "# we will then compare the frequency of nbh before and after the start of the halussination, to get some insights about the halussination,\n",
    "# along with some statitical metrics like mean and std deviation, to get some insights about the halussination,\n",
    "# hopefully this will give us some insights on how to detect a halussination and to detect other queries that are affected by this issue."
   ]
  },
  {
   "cell_type": "code",
   "execution_count": null,
   "metadata": {},
   "outputs": [],
   "source": [
    "# 1st step is to get the list of queries that are known to be halussinations, and the start date of the halussination using the first time the nbh was 400."
   ]
  },
  {
   "cell_type": "code",
   "execution_count": 31,
   "metadata": {},
   "outputs": [
    {
     "name": "stdout",
     "output_type": "stream",
     "text": [
      "Number of search terms: 611 , search terms: ['tshirt women', 'light', 'brand Tshirt', 'pants for men', 'o r shoes', 'steel wardrobe', 'grill sandwich maker', 'bags for ladies', 'men makeup', 'womens shoe', 'sport shoes', 'maxi mini dress', 'tinsel', 'ladies footwear', 'shoe mens', 'photocard holdet', 'samsung galaxy a52 5g screen protector', 'anti slip shoes', 'oversize t sorts', 'dress', 'tshirts for ladies', 'x shus', 'colloidal silver', 'sport shoes for men', 'polo t shirt', 'king size fitted bed sheet', 'women tshirt', 'new phone', 'mobile 200', 'shouse for man', 'brown table mat', 'hoodi', 'dress vermoda', 'pants', 'samsung a25', 'gaming birthday decoration', 'ladies bag', 'slip ONS', 'costum', 'tee', 'shoes for mens', 'women dress evening', 'rubning shoes', 'mens fashion shirt', 'angle grinder pad', 'wifi adapter for pc', 'on on shoes', 'polo tee', 's24 ultra screen protector', 'footwear for men', 'type c chargee', 'night suit ladies', 'lattafa perfume for men', 's23 ultra lens protector', 'car toys for boys', 'man boots', 'bags for clothes', '15 pro 512', 'hair jail man', 'toe sandals', 'security camera with mobile connect', 'sets', 'mini skirt', 'summer t shirt for women', 'potty seat with ladder', 'polo t shirts', 'genric shoes', 'shart man', 'apple watch cover', 'shouse for men', 'shirts mens', 'shoes for men sports', 'rule 1', 'perfumr', 'clothing for men', 'lacoste glasses', 'soft sandals', 'adventure time', 'soft shoes', 'cotton women tops', 'men shoes', 'hand bag ladies', 'powder max factor', 'blouse shortsleeve', 'women', 'dualsense', 'leather tool kit', 'shoes for men nike', 't shirt summer for women', 'footbal', 'on shoes men', 'underwear men', 'on trainers', 'rest band', 'goggles for men', 'travel bags', 'women t-shirt cotton', 'women watches', 'deam', 'across shoes', 'summer', 'wide lwg pants', 't-shirt oversized', 'stylish shoes mens', 'cloth shirt', 'men sports shoes', 'fashion shoes for men', 'runner shoes', 'men foot wear', '12gb ram mobiles', 'women legging', 'glow mask', 'hand swaddle', 'oversized t shirt', 'women T-shirts', 'dates bowl', 'nail fung', 'seiko 5', 'ladies dress', 'shoes sports', 'summer t shirt', 'promote neck', 'ordinary cream', 't shirt for men', '14 generation laptop', 'sony lens', 'seiko watch', 'short sleeve shirt', 'mens shirts', 'peacock', 'men summer shirt', 'high heels pumps', 'blusher creamy', 'stuff for kitchen', 'shose men', 'mens wese', 'styrofoam balls 80mm', 'tshirts polo', 'garment machine', 'sweatshirt men', 'nights dress for women', '5g mobile low price', 'black skechers shoes', '4ram', 'samsung f34', 'ladies sports shoes', 'women tre shirt', 'window wiper', 'paris shirts', 'couple', 'jewellery', 'car air compressor', 'samsung galaxy fit 3', 'black dress', 'jwells', 'polo t shirt men', 'blender high quality', 'masportsn shoes', 'tongue cleaner for baby', 'pendrive 1tb', 'volleyball ball', 'man shues', 'folding phone', 'tshirts women', 'cropped shirt', 'beach towel', 'kitchen', 'compressed air duster', 'flash sale', 'wall filler', 'fitness', 'gents garment', 'baby girl clothes', 'athletic shoes', 'body wash for dry skin', 'neck bag', 'mens polo shirt', 'night dresses', 'foot ball', 'men footwear', 'tissue roll holder', '4g router', 'baby chair and table honor', 'oversized shirt', 'aligner cleaner', 'hoddie', 'man shoes', 'soundcore earphones', 'men summer shirts', 'ipad pro 11 inch 2024', 'means shoes', 'oxygen machine', 'bath and body work body cream', 'shirt', 'shoes for men adidas', 'backpack', 'oppo reno 12', 'honor v3 front case', 'men short shirts', 'p shoes', 'jeans for men', 'cushion pillow', 'iphone 16 charging point cover', 'faux pearl', 'ladies t shirt', 'porsche 911', 'sunglasses', 'straight leg jeans', 'shoes', 'mini dress', 'neck wallet', 'mens footwears', 'mens running shoes', '1tb mobile', 'ahirt', 'shorts', 'adidas shoes for men', 'summer polo', 'wired earphones', 'sk watch', 'tiny camera', 'sweatshirt', 'mobile 2000', 'sapatos', 'lint roller', 'on shoes', 'maxi dress', 'men shoe', 'canon 90d', 'sweat shirt', 'shows pad', 'tshirt men', 'for men shoes', 'women shoe', 't shirt polo', 'generic product', 'sport', 'strap for smart watch', 's ultra', 'men shirt', 'sgoes', 'women night dresses', 'slippers for men', 'turkish coffee machine', 'ladies fashionable', 'black formal shoes for men', 'top branded shoes', 'mask face skincare', 't shirt oversized men', 'hoodies', 'gym shoes and casual', 'lacoste goggles', 'shoes for ladies nike', 'nike shoes for men', 'hoodie sweatshirt', 'mic bluetooth', 'footwear men', 'rc drone', 'shoes for womens', 'heelys shoes for kids', 'male', 'shoea', 'casual footwear', 'pen', 'man shoes new', '𝑠𝑡𝑜𝑟𝑎𝑔𝑒 𝑏𝑜𝑥', 'balloons pump', 'backrest pillow', 'laptop backpack', 'madi dress', 'jamaky italy', 'maternity pants', 'bubbles figure', 'l men', 'sofa cleaner', 'lovers', 'banana boat sunscreen', 'delay', 'fashion', 't-shirt large', 'blue elegant', 'mens slippers', 'laptop microsoft', 'men polo', 'vbulgari', 'boots for men', 'man wear', 'womens dresses', 'tennis shoes men', 'maxi gown', 'short dress', 'kitchen vessels', 'shoes men', 'training shoes', 'sketchers girl', 'generic shoes', \"men's shoe\", 'women footwear', 'lady shoes', 'organic coconut oil for cooking', 'shose shoe', 'en sneakers', 'galaxy tab s10 ultra', 'clothes women wear', 'a55 samsung back cover', 'markets', 'nest thermostat', 'men gym shoes', 'on running shose', 'nail fungus', 'ladies night wears', 'masin shaving', 'high necks', 'Tshirts', 'gift wrapping paper', 'sony headphones case', 'shoes low price', 'sports shoes men', 'nike shoes men', 'tee shirts for men', 'strong lite', 'shoes soul', 'for gym', 'hailand medicine for cold', 'shirt men', 'carpet black design', 'tshirts men', 'tshirt for men', 'iphone 13 pro max case', 'aquarium submersible pump', 'car vacuum', 'capri pants men', '5g phones low price', 'party dress', 'rexona deodorants', 'shoe', 'video doorbell', 'casio vintage watch women', 'formal shirt men', 'motorbike clothes kids', 'shirts', 'google picel', 'jkt mans', 'shoes for men fashion', 'bra panty', 's23 ultra screen protector', 'for man', 'cap', 'sweatshirts', 'sports boots', 'mens shoes', 'athletic shoes for men', 't short mens', 'jewelries', 'oppo a54', 'bonnet', 'kadai with lid', 'core i7 laptop hp', 'couples', 'cheap ipads', 'footboo. cards', 'makeup cotton wipes', 'shooes', 'mens polo t shirt', 'tshirt for ladies', 'hoodie', 'chappals for female', 'glass stove cleaner', 'spros joging', 'sports shoes', 'lacoste sunglass', 'soft sole shoes', 'cmf', 'creatine monohydrate powder', 'shoes under 200', 'gym shoes for men', 'st. ives', 'round sun glasses', 'watch for women', 'jkt', 'shoos sport', 'carotone cream', 'shose', 'women dress', 'car seat cover set', 'green dress', 'T shirt', 'shirts for men', 'ladies tops shirts', '100 percent cotton undershirt', 'eternity ring', 'mug sticker', 'high herls pumps', 'band apple watch', 'slip on for ladies', 'tshirts', 'pant liners', 'xiaomi pad se 11', 'best camera phone', 'shoes man', 'man t shirts', 'men clothes t shirt', 'shoes marker', 'slip ons for men', 'midi dress', 'sunglasses for men', 'men shirts 2xl', 'hand soap organizer', 'oversized', 'polo tshirt', 'polo t shirt for men', 'sporta shoes', 'short sleeve shirt men', 'bedding curtains', 'running shoes', 'jennie', 'men', 'print t shirt for men', '360 outdoor light', 'confort shose', 'nu skin', 'adidas tshirt', 'men sneakers', 'pooja', 'shoze sport', 'spoort shos', 'casual shoes men', 'oppo 11f', 'pant', 'top gas', 't shirts', 'raning shoes', 'dark women slipper', 'boys toys', 'casual shoes', 'shoes for men s', 'tv 24 inch', 'gym shoes', 'collagen supplements', 'women jewelry', 'gents shoes', 'agarbatti', 'men for shirts', 'generic', 'mens tshirt', 'on running cloud', 'watch for boys', 'runni g shoes for men', 'shoe sneakers', 'dresses', 'womans maxi dress', 'tshirts oversize', 'xs', 't shart', 'slippers', 'flame gun', 'grilled chicken', 'apple earphone type c', 'men’s shorts', 'beard shampoo', 'sheos', 'shos man', 'hodie', '𝘵 𝘴𝘩𝘪𝘳𝘵', 'new shoes for men', 'loreal', 'nivea soft moisturizer', 'shoes mens', 'dr dre beats', 'clothes men', 'shoes 32', 'keto chocolate', 'sportswear', 'shock proof sole', 'womens tops', 'training shorts men', 'wome handbag', 'food boll', 'running shoes men', 'summer shirt', 'sport equipment', 'huawei matepad pro 13.2-inch', 'woman footwaers', 'shoes sport', 'free size t shirt', 'joggers shoes', '13 pro max', 'summer top clothes for women', 'shoes shoes for men', 'adidas comfort', 'men cotton shirt', 'tair shous', 'mini coffee scale', 'sandals for mens', 'jackets for mens', 'shoes ladys', 'best shoes for men', 'ssd 2tb', 'tshirt for woman', 'sweatpants for ladies', 'silk underwear', 'stylish shirt for men', 'gym.shoes', 'bikini set', 'shoes sneakers', 'labelo', 'gifts boxes', 'under armour slippers', 'plaatic shoes', 'tshirt for women', 'google pixel 4', 'gents shoe', 'cotton ribbon', 'maxi', 'apple latest watch', 'men tshirts', 'lacoste sunglasses', 't-shirt for women', 'shoes latest', 'shoes for men sport', 'market', 'oversized t shirt men', 'fairy skin', 'kitchen accessories', 'women bag', 'on men shoes', 'fashion shoes', 'guitar electric', 'automatic watch for men', 'tshirt', 'dog waste bag', 'apple watch copy', 'shoes 41', 'men spots shoes', 'mango', 'baby kids pad', 'suitcases', 'woman shoe', 'screen protector ninetendo', 'cotton shirt women', 'velvet curtains', 'sneakers shoe for men', 'yab with keyboard pen', 'samsung galaxy s24 ultra camera glass', 'working dress', 'sports shoe', 'shoes shoes', 'sunglass', 'iphone 14 plus screen protector', 'uto level', 'sandale', 't shirt cotton', 'tv curtain', 'ny t shirt', 'jewlery', 'face cleanser tool', 'broom bathroom', 'summer clothes', 'car washer water pump', 'spoon and fork set', 'for kids shoes', 'watch for ladies', 'on running shoes', 'instant oats', 'for shoes', 'kichan', 'men cotton shirts', 'shoes foe men', 'oversized tshirts', 'utensils container', 'curtain holder', 'smartwatch', 'chaussures', 'snikers shors', 'best shoes', 'ipad 2022 tempered glass', 'ladies dress night', 'whomen shoe', 'shoo men', 'steam vacuum', 'shoe for men', 'tank top men', 'women gowns', 'trainer shoes', 'ruuning shoes', 'apple airpods pro 2', 'party gowns', 'tevise watch', 'tops hoodies', 'ladies weare', 'kitchen knife', 'men tshirt', 'de tan face wash', 'football', '360 insta', 'polish', 'st ives', 'leader shoes', 'shoes gents', 'black t shirt men', 'jogging shoes for men', 'laminating sheets', 'fan eye lashes', 'slip in shoes', 'chappals for ladies', 'n shoes', 'jiu jitsu gi', 'disney shoes', 'bracelet for men', 'cereal', 'shoes']\n"
     ]
    }
   ],
   "source": [
    "# Get english search terms which are flagged to google as halussinations (ignore arabic as they causes some issues in the encoding)\n",
    "\n",
    "csv_path = \"./Google 400 products cases Attribution Tokens - Sheet1.csv\"\n",
    "search_terms_df = pd.read_csv(csv_path)\n",
    "search_terms = search_terms_df['search_query'].tolist()\n",
    "\n",
    "# Filter out Arabic search terms\n",
    "search_terms = [term for term in search_terms if not helpers.is_arabic(term)]\n",
    "\n",
    "# Remove duplicates\n",
    "search_terms = list(set(search_terms))\n",
    "search_terms.append(\"shoes\")\n",
    "print(f\"Number of search terms: {len(search_terms)} , search terms: {search_terms}\")"
   ]
  },
  {
   "cell_type": "code",
   "execution_count": 48,
   "metadata": {},
   "outputs": [
    {
     "name": "stdout",
     "output_type": "stream",
     "text": [
      "Query failed: Command '['bq', 'query', '--project_id=noonbisearch', '--format=json', '--nouse_legacy_sql', '\\n            SELECT\\n                DATE(event_time) AS event_date,\\n                MIN(CAST(JSON_EXTRACT_SCALAR(event_misc, \"$.nbh\") AS BIGNUMERIC)) AS min_nbh\\n            FROM\\n                `noonprd-mp-analytics.noon_analytics_tool.raw_events_v2`\\n            WHERE\\n                event_date BETWEEN DATE_SUB(CURRENT_DATE(), INTERVAL 12 MONTH) AND CURRENT_DATE()\\n                AND property_code = \\'noon\\'\\n                AND JSON_EXTRACT_SCALAR(event_misc, \"$.mc\") = \"noon\"\\n                AND event_type = \\'page_catalog\\'\\n                AND lower(JSON_EXTRACT_SCALAR(event_misc, \"$.st\")) = \\'men\\'s shoe\\'\\n                AND lower(JSON_EXTRACT_SCALAR(event_misc, \"$.td.eid\")) = \\'google\\'\\n                AND JSON_VALUE(event_misc, \"$.ed.cd.hit\") = \"false\"\\n                AND JSON_EXTRACT_SCALAR(event_misc, \"$.st\") IS NOT NULL\\n                AND JSON_EXTRACT_SCALAR(event_misc, \"$.curl\") LIKE \\'/search?q=men\\'s shoe\\'\\n                AND JSON_EXTRACT_SCALAR(event_misc, \"$.nbh\") = \"400\"\\n            GROUP BY\\n                event_date\\n            ORDER BY\\n                event_date ASC\\n            LIMIT 1\\n        ']' returned non-zero exit status 1.\n",
      "Results without 400 len 536:\n",
      " [{'search_query': 'shoe mens', 'min_date': None}, {'search_query': 'brand Tshirt', 'min_date': None}, {'search_query': 'tshirt women', 'min_date': None}, {'search_query': 'maxi mini dress', 'min_date': None}, {'search_query': 'ladies footwear', 'min_date': None}]...\n",
      "\n",
      "Results with 400 len 75:\n",
      " [{'search_query': 'shose', 'min_date': '2024-09-25'}, {'search_query': 'market', 'min_date': '2024-09-25'}, {'search_query': 'shooes', 'min_date': '2024-09-26'}, {'search_query': 'shoea', 'min_date': '2024-09-27'}, {'search_query': 'sheos', 'min_date': '2024-09-27'}]...\n",
      "\n",
      "Search term: shose, Min date: 2024-09-25\n",
      "Search term: market, Min date: 2024-09-25\n",
      "Search term: shooes, Min date: 2024-09-26\n",
      "Search term: shoea, Min date: 2024-09-27\n",
      "Search term: sheos, Min date: 2024-09-27\n",
      "...\n",
      "...\n",
      "...\n",
      "\n",
      "Search term: agarbatti, Min date: 2025-05-01\n",
      "Search term: labelo, Min date: 2025-05-01\n",
      "Search term: suitcases, Min date: 2025-05-01\n",
      "Search term: women, Min date: 2025-05-02\n",
      "Search term: dresses, Min date: 2025-05-02\n"
     ]
    }
   ],
   "source": [
    "project_id = \"noonbisearch\"\n",
    "duration_months = 12 # Number of months to look back for the nbh 400 trend\n",
    "target_nbh = 400\n",
    "\n",
    "def get_query_start_halussination(search_term):\n",
    "    \"\"\"\n",
    "    Get the start date of the halussination for a given search term\n",
    "    \"\"\"\n",
    "    try:\n",
    "        min_date_query = MinDateNBHQuery.MinDateNBHQuery(search_term= search_term,project_id= project_id, duration_months=duration_months , target_nbh=target_nbh)\n",
    "        result = BigQueryExecutor.BigQueryExecutor().execute_query(min_date_query,cache=True)\n",
    "\n",
    "        if result is None:\n",
    "            return {\"search_query\"  : search_term, \"min_date\": None}\n",
    "        if result.empty:\n",
    "            return {\"search_query\"  : search_term, \"min_date\": None}\n",
    "        return {\"search_query\"  : search_term, \"min_date\": result['event_date'].values[0]}\n",
    "    except Exception as e:\n",
    "        return {\"search_query\"  : search_term, \"min_date\": None}\n",
    "\n",
    "results = []\n",
    "with concurrent.futures.ThreadPoolExecutor() as executor:\n",
    "    future_to_term = {executor.submit(get_query_start_halussination, term): term for term in search_terms}\n",
    "    for future in concurrent.futures.as_completed(future_to_term):\n",
    "        result = future.result()\n",
    "        results.append(result)\n",
    "\n",
    "\n",
    "# Filter out queries that have no 400\n",
    "results_without_400 = [result for result in results if result['min_date'] is None]\n",
    "\n",
    "# Filter out queries that have 400 detected\n",
    "results_with_400 = [result for result in results if result['min_date'] is not None]\n",
    "\n",
    "# sort the results by min_date\n",
    "results_with_400.sort(key=lambda x: x['min_date'])\n",
    "\n",
    "# print the results\n",
    "print(f\"Results without 400 len {len(results_without_400)}:\\n {results_without_400[:5]}...\\n\")\n",
    "\n",
    "print(f\"Results with 400 len {len(results_with_400)}:\\n {results_with_400[:5]}...\\n\")\n",
    "for result in results_with_400[:5]:\n",
    "    print(f\"Search term: {result['search_query']}, Min date: {result['min_date']}\")\n",
    "print(\"...\\n\"*3)\n",
    "for result in results_with_400[-5:]:\n",
    "    print(f\"Search term: {result['search_query']}, Min date: {result['min_date']}\")\n",
    "\n",
    "# store the 400 in a csv file\n",
    "results_with_400_df = pd.DataFrame(results_with_400)\n",
    "results_with_400_df.to_csv(\"./final_outputs/results_with_400_first_date.csv\", index=False)\n",
    "\n",
    "    "
   ]
  },
  {
   "cell_type": "code",
   "execution_count": null,
   "metadata": {},
   "outputs": [],
   "source": [
    "# 2nd step is to get the nbh trend for the queries that have 400 detected (still not finished)"
   ]
  }
 ],
 "metadata": {
  "kernelspec": {
   "display_name": "venv",
   "language": "python",
   "name": "python3"
  },
  "language_info": {
   "codemirror_mode": {
    "name": "ipython",
    "version": 3
   },
   "file_extension": ".py",
   "mimetype": "text/x-python",
   "name": "python",
   "nbconvert_exporter": "python",
   "pygments_lexer": "ipython3",
   "version": "3.13.3"
  }
 },
 "nbformat": 4,
 "nbformat_minor": 2
}
